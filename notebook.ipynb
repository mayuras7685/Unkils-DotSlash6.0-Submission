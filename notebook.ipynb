{
 "cells": [
  {
   "cell_type": "code",
   "execution_count": 1,
   "metadata": {},
   "outputs": [],
   "source": [
    "import os\n",
    "\n",
    "inputs = []\n",
    "label = []\n",
    "\n",
    "classes = []\n",
    "\n",
    "dirts = 'ws_data'\n",
    "\n",
    "for dirt in os.listdir(dirts):\n",
    "    files_path = os.path.join(dirts, dirt)\n",
    "    for file in os.listdir(files_path):\n",
    "        text = ''\n",
    "        file_path = os.path.join(files_path, file)\n",
    "        with open(file_path, 'r', encoding='utf-8') as f:\n",
    "            for l in f:\n",
    "                text = text + l\n",
    "\n",
    "        if text.strip() != '':\n",
    "            inputs.append(text)\n",
    "            label.append(dirt)"
   ]
  },
  {
   "cell_type": "markdown",
   "metadata": {},
   "source": [
    "### Preprocessing"
   ]
  },
  {
   "cell_type": "code",
   "execution_count": 2,
   "metadata": {},
   "outputs": [],
   "source": [
    "import pandas as pd\n",
    "\n",
    "docs = pd.DataFrame()\n",
    "docs['text'] = inputs\n",
    "docs['class'] = label\n",
    "classes = docs['class'].unique().tolist()"
   ]
  },
  {
   "cell_type": "markdown",
   "metadata": {},
   "source": [
    "### Extracting Features"
   ]
  },
  {
   "cell_type": "code",
   "execution_count": 3,
   "metadata": {},
   "outputs": [],
   "source": [
    "from sklearn.feature_extraction.text import CountVectorizer\n",
    "from sklearn.feature_extraction import text\n",
    "\n",
    "stop_words = text.ENGLISH_STOP_WORDS.union()\n",
    "count_vect = CountVectorizer(token_pattern=\"[^\\W\\d_]+\")\n",
    "train_data_features = count_vect.fit_transform(docs['text'])\n",
    "\n",
    "def preprocess_file(file_path):\n",
    "    text = ''\n",
    "    with open(file_path, 'r', errors='ignore') as f:\n",
    "        for l in f:\n",
    "            text = l + ' '\n",
    "    return count_vect.transform([text])\n",
    "\n",
    "def preprocess(input):\n",
    "    return count_vect.transform(input)"
   ]
  },
  {
   "cell_type": "markdown",
   "metadata": {},
   "source": [
    "### Using Multinomial Naive Bayes Model from sklearn"
   ]
  },
  {
   "cell_type": "code",
   "execution_count": 4,
   "metadata": {},
   "outputs": [],
   "source": [
    "from sklearn.model_selection import train_test_split\n",
    "from sklearn.naive_bayes import MultinomialNB\n",
    "\n",
    "docs['class'] = docs['class'].replace(docs['class'].unique().tolist(), range(0, len(docs['class'].unique())))\n",
    "X = train_data_features.toarray()\n",
    "Y = docs['class'].tolist()\n",
    "\n",
    "x, _x, y, _y = train_test_split(X, Y, test_size=0.01, random_state=42)\n",
    "\n",
    "clf = MultinomialNB()\n",
    "_ = clf.fit(X, Y)"
   ]
  },
  {
   "cell_type": "markdown",
   "metadata": {},
   "source": [
    "### Testing the Model"
   ]
  },
  {
   "cell_type": "code",
   "execution_count": 5,
   "metadata": {},
   "outputs": [
    {
     "name": "stdout",
     "output_type": "stream",
     "text": [
      "               category  accuracy (%)\n",
      "0         Art & Science         100.0\n",
      "1               Finance         100.0\n",
      "2  Goverment & Politics          80.0\n",
      "3                Health         100.0\n",
      "4  Science & Technology         100.0 \n",
      "\n",
      "Total Accuracy:  100.0 %\n"
     ]
    }
   ],
   "source": [
    "from sklearn.metrics import confusion_matrix\n",
    "import numpy as np\n",
    "\n",
    "yhat = clf.predict(_x)\n",
    "matrix = confusion_matrix(_y, yhat)\n",
    "accuracy = (matrix.diagonal() / matrix.sum(axis=1)) * 100\n",
    "\n",
    "acc_table = pd.DataFrame()\n",
    "acc_table['category'] = classes\n",
    "acc_table['accuracy (%)'] = accuracy.round(1)\n",
    "\n",
    "print(acc_table, '\\n\\nTotal Accuracy: ', (np.mean(yhat == _y)).round(1) * 100, '%')"
   ]
  },
  {
   "cell_type": "markdown",
   "metadata": {},
   "source": [
    "### Manual Test"
   ]
  },
  {
   "cell_type": "code",
   "execution_count": 12,
   "metadata": {},
   "outputs": [
    {
     "name": "stdout",
     "output_type": "stream",
     "text": [
      "3\n"
     ]
    }
   ],
   "source": [
    "docs_text = ['A \"crisis\" in health care is \"the point in the course of a disease at which a decisive change occurs, leading either to recovery or to death\".']\n",
    "\n",
    "p_docs_text = preprocess(docs_text)\n",
    "index = clf.predict(p_docs_text)[0]\n",
    "print(index)"
   ]
  },
  {
   "cell_type": "code",
   "execution_count": 47,
   "metadata": {},
   "outputs": [],
   "source": [
    "import pickle\n",
    "\n",
    "pickle.dump(count_vect, open(\"preprocess.pkl\",\"ab\"))\n",
    "pickle.dump(clf, open(\"model.pkl\",\"ab\"))"
   ]
  },
  {
   "cell_type": "code",
   "execution_count": 53,
   "metadata": {},
   "outputs": [
    {
     "ename": "FileNotFoundError",
     "evalue": "[Errno 2] No such file or directory: '../sample/Law Dictionary.pdf'",
     "output_type": "error",
     "traceback": [
      "\u001b[1;31m----------------------------------------------------------------\u001b[0m",
      "\u001b[1;31mFileNotFoundError\u001b[0m              Traceback (most recent call last)",
      "\u001b[1;32m~\\AppData\\Local\\Temp\\ipykernel_16636\\3608358267.py\u001b[0m in \u001b[0;36m<module>\u001b[1;34m\u001b[0m\n\u001b[1;32m----> 1\u001b[1;33m \u001b[0mclf\u001b[0m\u001b[1;33m.\u001b[0m\u001b[0mpredict\u001b[0m\u001b[1;33m(\u001b[0m\u001b[0mpreprocess_file\u001b[0m\u001b[1;33m(\u001b[0m\u001b[1;34m'../sample/Law Dictionary.pdf'\u001b[0m\u001b[1;33m)\u001b[0m\u001b[1;33m)\u001b[0m\u001b[1;33m\u001b[0m\u001b[1;33m\u001b[0m\u001b[0m\n\u001b[0m",
      "\u001b[1;32m~\\AppData\\Local\\Temp\\ipykernel_16636\\1443802508.py\u001b[0m in \u001b[0;36mpreprocess_file\u001b[1;34m(file_path)\u001b[0m\n\u001b[0;32m      8\u001b[0m \u001b[1;32mdef\u001b[0m \u001b[0mpreprocess_file\u001b[0m\u001b[1;33m(\u001b[0m\u001b[0mfile_path\u001b[0m\u001b[1;33m)\u001b[0m\u001b[1;33m:\u001b[0m\u001b[1;33m\u001b[0m\u001b[1;33m\u001b[0m\u001b[0m\n\u001b[0;32m      9\u001b[0m     \u001b[0mtext\u001b[0m \u001b[1;33m=\u001b[0m \u001b[1;34m''\u001b[0m\u001b[1;33m\u001b[0m\u001b[1;33m\u001b[0m\u001b[0m\n\u001b[1;32m---> 10\u001b[1;33m     \u001b[1;32mwith\u001b[0m \u001b[0mopen\u001b[0m\u001b[1;33m(\u001b[0m\u001b[0mfile_path\u001b[0m\u001b[1;33m,\u001b[0m \u001b[1;34m'r'\u001b[0m\u001b[1;33m,\u001b[0m \u001b[0merrors\u001b[0m\u001b[1;33m=\u001b[0m\u001b[1;34m'ignore'\u001b[0m\u001b[1;33m)\u001b[0m \u001b[1;32mas\u001b[0m \u001b[0mf\u001b[0m\u001b[1;33m:\u001b[0m\u001b[1;33m\u001b[0m\u001b[1;33m\u001b[0m\u001b[0m\n\u001b[0m\u001b[0;32m     11\u001b[0m         \u001b[1;32mfor\u001b[0m \u001b[0ml\u001b[0m \u001b[1;32min\u001b[0m \u001b[0mf\u001b[0m\u001b[1;33m:\u001b[0m\u001b[1;33m\u001b[0m\u001b[1;33m\u001b[0m\u001b[0m\n\u001b[0;32m     12\u001b[0m             \u001b[0mtext\u001b[0m \u001b[1;33m=\u001b[0m \u001b[0ml\u001b[0m \u001b[1;33m+\u001b[0m \u001b[1;34m' '\u001b[0m\u001b[1;33m\u001b[0m\u001b[1;33m\u001b[0m\u001b[0m\n",
      "\u001b[1;31mFileNotFoundError\u001b[0m: [Errno 2] No such file or directory: '../sample/Law Dictionary.pdf'"
     ]
    }
   ],
   "source": [
    "clf.predict(preprocess_file('../sample/Law Dictionary.pdf'))"
   ]
  },
  {
   "cell_type": "code",
   "execution_count": null,
   "metadata": {},
   "outputs": [],
   "source": []
  },
  {
   "cell_type": "code",
   "execution_count": null,
   "metadata": {},
   "outputs": [],
   "source": []
  },
  {
   "cell_type": "code",
   "execution_count": null,
   "metadata": {},
   "outputs": [],
   "source": []
  }
 ],
 "metadata": {
  "kernelspec": {
   "display_name": "Python 3 (ipykernel)",
   "language": "python",
   "name": "python3"
  },
  "language_info": {
   "codemirror_mode": {
    "name": "ipython",
    "version": 3
   },
   "file_extension": ".py",
   "mimetype": "text/x-python",
   "name": "python",
   "nbconvert_exporter": "python",
   "pygments_lexer": "ipython3",
   "version": "3.7.11"
  },
  "vscode": {
   "interpreter": {
    "hash": "a5355d6f3838e20033a1cbb9b44a947abc53cfdff1703ddcf214ba634ed7f1d5"
   }
  }
 },
 "nbformat": 4,
 "nbformat_minor": 2
}
